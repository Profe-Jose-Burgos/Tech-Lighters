{
 "cells": [
  {
   "attachments": {},
   "cell_type": "markdown",
   "metadata": {},
   "source": [
    "# TRATAMIENTO DE DATOS"
   ]
  },
  {
   "attachments": {},
   "cell_type": "markdown",
   "metadata": {},
   "source": [
    "# INTEGRANTES:\n",
    "\n",
    "\n",
    "\n",
    "## 1- STEVEN AMPIE\n",
    "## 2- ENRIQUE QUERINI\n",
    "## 3- VIVIANA DAVIS\n",
    "## 4- JOHAN PIMENTEL\n",
    "## 5- ALEXANDER SANTAMARIA"
   ]
  },
  {
   "cell_type": "code",
   "execution_count": 1,
   "metadata": {},
   "outputs": [],
   "source": [
    "import pandas as pd\n",
    "import numpy as np\n",
    "import telebot"
   ]
  },
  {
   "cell_type": "code",
   "execution_count": 2,
   "metadata": {},
   "outputs": [],
   "source": [
    "link=pd.read_csv(\"delivery_dataset.csv\", sep=';')"
   ]
  },
  {
   "cell_type": "code",
   "execution_count": 3,
   "metadata": {},
   "outputs": [
    {
     "data": {
      "text/plain": [
       "0       2003\n",
       "1        754\n",
       "2        628\n",
       "3        926\n",
       "4       1829\n",
       "        ... \n",
       "8994    1928\n",
       "8995     927\n",
       "8996    1147\n",
       "8997    1705\n",
       "8998    2134\n",
       "Name: Actual_Shipment_Time, Length: 8999, dtype: int64"
      ]
     },
     "execution_count": 3,
     "metadata": {},
     "output_type": "execute_result"
    }
   ],
   "source": [
    "link[\"Actual_Shipment_Time\"]"
   ]
  },
  {
   "cell_type": "code",
   "execution_count": 4,
   "metadata": {},
   "outputs": [
    {
     "data": {
      "text/html": [
       "<div>\n",
       "<style scoped>\n",
       "    .dataframe tbody tr th:only-of-type {\n",
       "        vertical-align: middle;\n",
       "    }\n",
       "\n",
       "    .dataframe tbody tr th {\n",
       "        vertical-align: top;\n",
       "    }\n",
       "\n",
       "    .dataframe thead th {\n",
       "        text-align: right;\n",
       "    }\n",
       "</style>\n",
       "<table border=\"1\" class=\"dataframe\">\n",
       "  <thead>\n",
       "    <tr style=\"text-align: right;\">\n",
       "      <th></th>\n",
       "      <th>Year</th>\n",
       "      <th>Month</th>\n",
       "      <th>DayofMonth</th>\n",
       "      <th>DayOfWeek</th>\n",
       "      <th>Actual_Shipment_Time</th>\n",
       "      <th>Planned_Shipment_Time</th>\n",
       "      <th>Planned_Delivery_Time</th>\n",
       "      <th>Carrier_Name</th>\n",
       "      <th>Carrier_Num</th>\n",
       "      <th>Planned_TimeofTravel</th>\n",
       "      <th>Shipment_Delay</th>\n",
       "      <th>Source</th>\n",
       "      <th>Destination</th>\n",
       "      <th>Distance</th>\n",
       "      <th>Delivery_Status</th>\n",
       "    </tr>\n",
       "  </thead>\n",
       "  <tbody>\n",
       "    <tr>\n",
       "      <th>0</th>\n",
       "      <td>2020</td>\n",
       "      <td>1</td>\n",
       "      <td>3</td>\n",
       "      <td>4</td>\n",
       "      <td>2003</td>\n",
       "      <td>1955</td>\n",
       "      <td>2225</td>\n",
       "      <td>WN</td>\n",
       "      <td>335</td>\n",
       "      <td>150</td>\n",
       "      <td>8</td>\n",
       "      <td>IAD</td>\n",
       "      <td>TPA</td>\n",
       "      <td>810</td>\n",
       "      <td>0</td>\n",
       "    </tr>\n",
       "    <tr>\n",
       "      <th>1</th>\n",
       "      <td>2020</td>\n",
       "      <td>1</td>\n",
       "      <td>3</td>\n",
       "      <td>4</td>\n",
       "      <td>754</td>\n",
       "      <td>735</td>\n",
       "      <td>1000</td>\n",
       "      <td>WN</td>\n",
       "      <td>3231</td>\n",
       "      <td>145</td>\n",
       "      <td>19</td>\n",
       "      <td>IAD</td>\n",
       "      <td>TPA</td>\n",
       "      <td>810</td>\n",
       "      <td>1</td>\n",
       "    </tr>\n",
       "    <tr>\n",
       "      <th>2</th>\n",
       "      <td>2020</td>\n",
       "      <td>1</td>\n",
       "      <td>3</td>\n",
       "      <td>4</td>\n",
       "      <td>628</td>\n",
       "      <td>620</td>\n",
       "      <td>750</td>\n",
       "      <td>WN</td>\n",
       "      <td>448</td>\n",
       "      <td>90</td>\n",
       "      <td>8</td>\n",
       "      <td>IND</td>\n",
       "      <td>BWI</td>\n",
       "      <td>515</td>\n",
       "      <td>0</td>\n",
       "    </tr>\n",
       "    <tr>\n",
       "      <th>3</th>\n",
       "      <td>2020</td>\n",
       "      <td>1</td>\n",
       "      <td>3</td>\n",
       "      <td>4</td>\n",
       "      <td>926</td>\n",
       "      <td>930</td>\n",
       "      <td>1100</td>\n",
       "      <td>WN</td>\n",
       "      <td>1746</td>\n",
       "      <td>90</td>\n",
       "      <td>-4</td>\n",
       "      <td>IND</td>\n",
       "      <td>BWI</td>\n",
       "      <td>515</td>\n",
       "      <td>0</td>\n",
       "    </tr>\n",
       "    <tr>\n",
       "      <th>4</th>\n",
       "      <td>2020</td>\n",
       "      <td>1</td>\n",
       "      <td>3</td>\n",
       "      <td>4</td>\n",
       "      <td>1829</td>\n",
       "      <td>1755</td>\n",
       "      <td>1925</td>\n",
       "      <td>WN</td>\n",
       "      <td>3920</td>\n",
       "      <td>90</td>\n",
       "      <td>34</td>\n",
       "      <td>IND</td>\n",
       "      <td>BWI</td>\n",
       "      <td>515</td>\n",
       "      <td>1</td>\n",
       "    </tr>\n",
       "    <tr>\n",
       "      <th>...</th>\n",
       "      <td>...</td>\n",
       "      <td>...</td>\n",
       "      <td>...</td>\n",
       "      <td>...</td>\n",
       "      <td>...</td>\n",
       "      <td>...</td>\n",
       "      <td>...</td>\n",
       "      <td>...</td>\n",
       "      <td>...</td>\n",
       "      <td>...</td>\n",
       "      <td>...</td>\n",
       "      <td>...</td>\n",
       "      <td>...</td>\n",
       "      <td>...</td>\n",
       "      <td>...</td>\n",
       "    </tr>\n",
       "    <tr>\n",
       "      <th>8994</th>\n",
       "      <td>2020</td>\n",
       "      <td>1</td>\n",
       "      <td>6</td>\n",
       "      <td>7</td>\n",
       "      <td>1928</td>\n",
       "      <td>1920</td>\n",
       "      <td>2020</td>\n",
       "      <td>WN</td>\n",
       "      <td>2611</td>\n",
       "      <td>120</td>\n",
       "      <td>8</td>\n",
       "      <td>BWI</td>\n",
       "      <td>BNA</td>\n",
       "      <td>588</td>\n",
       "      <td>0</td>\n",
       "    </tr>\n",
       "    <tr>\n",
       "      <th>8995</th>\n",
       "      <td>2020</td>\n",
       "      <td>1</td>\n",
       "      <td>6</td>\n",
       "      <td>7</td>\n",
       "      <td>927</td>\n",
       "      <td>925</td>\n",
       "      <td>1030</td>\n",
       "      <td>WN</td>\n",
       "      <td>127</td>\n",
       "      <td>65</td>\n",
       "      <td>2</td>\n",
       "      <td>BWI</td>\n",
       "      <td>BUF</td>\n",
       "      <td>281</td>\n",
       "      <td>0</td>\n",
       "    </tr>\n",
       "    <tr>\n",
       "      <th>8996</th>\n",
       "      <td>2020</td>\n",
       "      <td>1</td>\n",
       "      <td>6</td>\n",
       "      <td>7</td>\n",
       "      <td>1147</td>\n",
       "      <td>1145</td>\n",
       "      <td>1250</td>\n",
       "      <td>WN</td>\n",
       "      <td>903</td>\n",
       "      <td>65</td>\n",
       "      <td>2</td>\n",
       "      <td>BWI</td>\n",
       "      <td>BUF</td>\n",
       "      <td>281</td>\n",
       "      <td>0</td>\n",
       "    </tr>\n",
       "    <tr>\n",
       "      <th>8997</th>\n",
       "      <td>2020</td>\n",
       "      <td>1</td>\n",
       "      <td>6</td>\n",
       "      <td>7</td>\n",
       "      <td>1705</td>\n",
       "      <td>1655</td>\n",
       "      <td>1805</td>\n",
       "      <td>WN</td>\n",
       "      <td>1516</td>\n",
       "      <td>70</td>\n",
       "      <td>10</td>\n",
       "      <td>BWI</td>\n",
       "      <td>BUF</td>\n",
       "      <td>281</td>\n",
       "      <td>0</td>\n",
       "    </tr>\n",
       "    <tr>\n",
       "      <th>8998</th>\n",
       "      <td>2020</td>\n",
       "      <td>1</td>\n",
       "      <td>6</td>\n",
       "      <td>7</td>\n",
       "      <td>2134</td>\n",
       "      <td>2115</td>\n",
       "      <td>2220</td>\n",
       "      <td>WN</td>\n",
       "      <td>1830</td>\n",
       "      <td>65</td>\n",
       "      <td>19</td>\n",
       "      <td>BWI</td>\n",
       "      <td>BUF</td>\n",
       "      <td>281</td>\n",
       "      <td>1</td>\n",
       "    </tr>\n",
       "  </tbody>\n",
       "</table>\n",
       "<p>8999 rows × 15 columns</p>\n",
       "</div>"
      ],
      "text/plain": [
       "      Year  Month  DayofMonth  DayOfWeek  Actual_Shipment_Time  \\\n",
       "0     2020      1           3          4                  2003   \n",
       "1     2020      1           3          4                   754   \n",
       "2     2020      1           3          4                   628   \n",
       "3     2020      1           3          4                   926   \n",
       "4     2020      1           3          4                  1829   \n",
       "...    ...    ...         ...        ...                   ...   \n",
       "8994  2020      1           6          7                  1928   \n",
       "8995  2020      1           6          7                   927   \n",
       "8996  2020      1           6          7                  1147   \n",
       "8997  2020      1           6          7                  1705   \n",
       "8998  2020      1           6          7                  2134   \n",
       "\n",
       "      Planned_Shipment_Time  Planned_Delivery_Time Carrier_Name  Carrier_Num  \\\n",
       "0                      1955                   2225           WN          335   \n",
       "1                       735                   1000           WN         3231   \n",
       "2                       620                    750           WN          448   \n",
       "3                       930                   1100           WN         1746   \n",
       "4                      1755                   1925           WN         3920   \n",
       "...                     ...                    ...          ...          ...   \n",
       "8994                   1920                   2020           WN         2611   \n",
       "8995                    925                   1030           WN          127   \n",
       "8996                   1145                   1250           WN          903   \n",
       "8997                   1655                   1805           WN         1516   \n",
       "8998                   2115                   2220           WN         1830   \n",
       "\n",
       "      Planned_TimeofTravel  Shipment_Delay Source Destination  Distance  \\\n",
       "0                      150               8    IAD         TPA       810   \n",
       "1                      145              19    IAD         TPA       810   \n",
       "2                       90               8    IND         BWI       515   \n",
       "3                       90              -4    IND         BWI       515   \n",
       "4                       90              34    IND         BWI       515   \n",
       "...                    ...             ...    ...         ...       ...   \n",
       "8994                   120               8    BWI         BNA       588   \n",
       "8995                    65               2    BWI         BUF       281   \n",
       "8996                    65               2    BWI         BUF       281   \n",
       "8997                    70              10    BWI         BUF       281   \n",
       "8998                    65              19    BWI         BUF       281   \n",
       "\n",
       "      Delivery_Status  \n",
       "0                   0  \n",
       "1                   1  \n",
       "2                   0  \n",
       "3                   0  \n",
       "4                   1  \n",
       "...               ...  \n",
       "8994                0  \n",
       "8995                0  \n",
       "8996                0  \n",
       "8997                0  \n",
       "8998                1  \n",
       "\n",
       "[8999 rows x 15 columns]"
      ]
     },
     "execution_count": 4,
     "metadata": {},
     "output_type": "execute_result"
    }
   ],
   "source": [
    "link"
   ]
  },
  {
   "cell_type": "code",
   "execution_count": 5,
   "metadata": {},
   "outputs": [],
   "source": [
    "lista_index=[]\n",
    "lista_value=[]\n",
    "for x, i in enumerate(link[\"Actual_Shipment_Time\"].isna()):\n",
    "    if i == True:\n",
    "        lista_index.append(x)\n",
    "        lista_value.append(i)"
   ]
  },
  {
   "cell_type": "code",
   "execution_count": 6,
   "metadata": {},
   "outputs": [],
   "source": [
    "for i in lista_index:\n",
    "    link[\"Actual_Shipment_Time\"][i] = link[\"Planned_Shipment_Time\"][i]"
   ]
  },
  {
   "cell_type": "code",
   "execution_count": 7,
   "metadata": {},
   "outputs": [
    {
     "data": {
      "text/plain": [
       "Year                     0\n",
       "Month                    0\n",
       "DayofMonth               0\n",
       "DayOfWeek                0\n",
       "Actual_Shipment_Time     0\n",
       "Planned_Shipment_Time    0\n",
       "Planned_Delivery_Time    0\n",
       "Carrier_Name             0\n",
       "Carrier_Num              0\n",
       "Planned_TimeofTravel     0\n",
       "Shipment_Delay           0\n",
       "Source                   0\n",
       "Destination              0\n",
       "Distance                 0\n",
       "Delivery_Status          0\n",
       "dtype: int64"
      ]
     },
     "execution_count": 7,
     "metadata": {},
     "output_type": "execute_result"
    }
   ],
   "source": [
    "link.isna().sum()"
   ]
  },
  {
   "cell_type": "code",
   "execution_count": 8,
   "metadata": {},
   "outputs": [
    {
     "data": {
      "text/plain": [
       "1300"
      ]
     },
     "execution_count": 8,
     "metadata": {},
     "output_type": "execute_result"
    }
   ],
   "source": [
    "link[\"Actual_Shipment_Time\"][1016]"
   ]
  },
  {
   "cell_type": "code",
   "execution_count": 9,
   "metadata": {},
   "outputs": [],
   "source": [
    "lista_index=[]\n",
    "lista_value=[]\n",
    "for x, i in enumerate(link[\"Shipment_Delay\"].isna()):\n",
    "    if i == True:\n",
    "        lista_index.append(x)\n",
    "        lista_value.append(i)"
   ]
  },
  {
   "cell_type": "code",
   "execution_count": 10,
   "metadata": {},
   "outputs": [],
   "source": [
    "for i in lista_index:\n",
    "    link[\"Shipment_Delay\"][i] = 0"
   ]
  },
  {
   "cell_type": "code",
   "execution_count": 11,
   "metadata": {},
   "outputs": [
    {
     "data": {
      "text/plain": [
       "0"
      ]
     },
     "execution_count": 11,
     "metadata": {},
     "output_type": "execute_result"
    }
   ],
   "source": [
    "link[\"Shipment_Delay\"].isna().sum()"
   ]
  },
  {
   "cell_type": "code",
   "execution_count": 12,
   "metadata": {},
   "outputs": [],
   "source": [
    "for i in lista_index:\n",
    "    link[\"Delivery_Status\"][i] = 0"
   ]
  },
  {
   "cell_type": "code",
   "execution_count": 14,
   "metadata": {},
   "outputs": [],
   "source": [
    "#link.to_csv(\"delivery_dataset.csv\", index=False, sep=';')"
   ]
  }
 ],
 "metadata": {
  "kernelspec": {
   "display_name": "base",
   "language": "python",
   "name": "python3"
  },
  "language_info": {
   "codemirror_mode": {
    "name": "ipython",
    "version": 3
   },
   "file_extension": ".py",
   "mimetype": "text/x-python",
   "name": "python",
   "nbconvert_exporter": "python",
   "pygments_lexer": "ipython3",
   "version": "3.9.12 (main, Apr  4 2022, 05:22:27) [MSC v.1916 64 bit (AMD64)]"
  },
  "orig_nbformat": 4,
  "vscode": {
   "interpreter": {
    "hash": "c85639ad47734d2d25675cf3359b999066bb31679113e658282fe7f1256484f7"
   }
  }
 },
 "nbformat": 4,
 "nbformat_minor": 2
}
