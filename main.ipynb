{
 "cells": [
  {
   "cell_type": "code",
   "execution_count": 1,
   "metadata": {},
   "outputs": [
    {
     "name": "stdout",
     "output_type": "stream",
     "text": [
      "WARNING:tensorflow:From c:\\Users\\yulu1\\AppData\\Local\\Programs\\Python\\Python310\\lib\\site-packages\\tensorflow\\python\\compat\\v2_compat.py:107: disable_resource_variables (from tensorflow.python.ops.variable_scope) is deprecated and will be removed in a future version.\n",
      "Instructions for updating:\n",
      "non-resource variables are not supported in the long term\n",
      "curses is not supported on this machine (please install/reinstall curses for an optimal experience)\n"
     ]
    }
   ],
   "source": [
    "import FuncionRequisicion as rq\n",
    "import FuncionReporte as rp\n",
    "import pandas as pd\n",
    "import numpy as np\n",
    "import openpyxl\n",
    "import matplotlib.pyplot as plt\n",
    "from sklearn.model_selection import train_test_split\n",
    "from sklearn.ensemble import RandomForestClassifier\n",
    "from sklearn import metrics\n",
    "from pathlib import Path\n",
    "from docxtpl import DocxTemplate, InlineImage\n",
    "import datetime\n",
    "from statistics import mean\n",
    "import uuid\n",
    "from datetime import datetime\n",
    "import nltk\n",
    "import json\n",
    "import tflearn\n",
    "import pickle\n",
    "import telebot\n",
    "from nltk.stem.lancaster import LancasterStemmer\n",
    "stemmer=LancasterStemmer()\n",
    "import random\n",
    "from telebot.types import ReplyKeyboardMarkup\n",
    "from telebot.types import ForceReply\n",
    "from Token import *\n"
   ]
  },
  {
   "cell_type": "code",
   "execution_count": 2,
   "metadata": {},
   "outputs": [],
   "source": [
    "#Guardamos nuestro dataset en una variable\n",
    "envio = pd.read_csv('delivery_dataset.csv', sep=';')\n",
    "envioReal = envio.copy()"
   ]
  },
  {
   "cell_type": "code",
   "execution_count": 3,
   "metadata": {},
   "outputs": [
    {
     "data": {
      "image/png": "[encoded data removed]",
      "text/plain": [
       "<Figure size 640x480 with 1 Axes>"
      ]
     },
     "metadata": {},
     "output_type": "display_data"
    }
   ],
   "source": [
    "rp.crearReporte()"
   ]
  },
  {
   "cell_type": "code",
   "execution_count": 4,
   "metadata": {},
   "outputs": [
    {
     "name": "stderr",
     "output_type": "stream",
     "text": [
      "C:\\Users\\yulu1\\AppData\\Local\\Temp\\ipykernel_18732\\2394921274.py:10: SettingWithCopyWarning: \n",
      "A value is trying to be set on a copy of a slice from a DataFrame\n",
      "\n",
      "See the caveats in the documentation: https://pandas.pydata.org/pandas-docs/stable/user_guide/indexing.html#returning-a-view-versus-a-copy\n",
      "  envioReal[\"Actual_Shipment_Time\"][i] = envioReal[\"Planned_Shipment_Time\"][i]\n",
      "C:\\Users\\yulu1\\AppData\\Local\\Temp\\ipykernel_18732\\2394921274.py:20: SettingWithCopyWarning: \n",
      "A value is trying to be set on a copy of a slice from a DataFrame\n",
      "\n",
      "See the caveats in the documentation: https://pandas.pydata.org/pandas-docs/stable/user_guide/indexing.html#returning-a-view-versus-a-copy\n",
      "  envioReal[\"Shipment_Delay\"][i] = 0\n",
      "C:\\Users\\yulu1\\AppData\\Local\\Temp\\ipykernel_18732\\2394921274.py:30: SettingWithCopyWarning: \n",
      "A value is trying to be set on a copy of a slice from a DataFrame\n",
      "\n",
      "See the caveats in the documentation: https://pandas.pydata.org/pandas-docs/stable/user_guide/indexing.html#returning-a-view-versus-a-copy\n",
      "  envioReal[\"Delivery_Status\"][i] = 1\n"
     ]
    }
   ],
   "source": [
    "# Eliminamos los datos nulos y los cambiamos por valores útiles.\n",
    "lista_index=[]\n",
    "lista_value=[]\n",
    "for x, i in enumerate(envioReal[\"Actual_Shipment_Time\"].isna()):\n",
    "    if i == True:\n",
    "        lista_index.append(x)\n",
    "        lista_value.append(i)\n",
    "\n",
    "for i in lista_index:\n",
    "    envioReal[\"Actual_Shipment_Time\"][i] = envioReal[\"Planned_Shipment_Time\"][i]\n",
    "\n",
    "lista_index=[]\n",
    "lista_value=[]\n",
    "for x, i in enumerate(envioReal[\"Shipment_Delay\"].isna()):\n",
    "    if i == True:\n",
    "        lista_index.append(x)\n",
    "        lista_value.append(i)\n",
    "\n",
    "for i in lista_index:\n",
    "    envioReal[\"Shipment_Delay\"][i] = 0\n",
    "\n",
    "lista_index=[]\n",
    "lista_value=[]\n",
    "for x, i in enumerate(envioReal[\"Delivery_Status\"].isna()):\n",
    "    if i == True:\n",
    "        lista_index.append(x)\n",
    "        lista_value.append(i)\n",
    "\n",
    "for i in lista_index:\n",
    "    envioReal[\"Delivery_Status\"][i] = 1"
   ]
  },
  {
   "cell_type": "code",
   "execution_count": 5,
   "metadata": {},
   "outputs": [
    {
     "name": "stderr",
     "output_type": "stream",
     "text": [
      "C:\\Users\\yulu1\\AppData\\Local\\Temp\\ipykernel_18732\\740797470.py:32: FutureWarning: The default value of numeric_only in DataFrame.mean is deprecated. In a future version, it will default to False. In addition, specifying 'numeric_only=None' is deprecated. Select only valid columns or specify the value of numeric_only to silence this warning.\n",
      "  Las = envioc[ envioc['Destination'] == 'LAS' ].mean()\n",
      "C:\\Users\\yulu1\\AppData\\Local\\Temp\\ipykernel_18732\\740797470.py:33: FutureWarning: The default value of numeric_only in DataFrame.mean is deprecated. In a future version, it will default to False. In addition, specifying 'numeric_only=None' is deprecated. Select only valid columns or specify the value of numeric_only to silence this warning.\n",
      "  Mdw = envioc[ envioc['Destination'] == 'MDW' ].mean()\n",
      "C:\\Users\\yulu1\\AppData\\Local\\Temp\\ipykernel_18732\\740797470.py:34: FutureWarning: The default value of numeric_only in DataFrame.mean is deprecated. In a future version, it will default to False. In addition, specifying 'numeric_only=None' is deprecated. Select only valid columns or specify the value of numeric_only to silence this warning.\n",
      "  Phx = envioc[ envioc['Destination'] == 'PHX' ].mean()\n",
      "C:\\Users\\yulu1\\AppData\\Local\\Temp\\ipykernel_18732\\740797470.py:35: FutureWarning: The default value of numeric_only in DataFrame.mean is deprecated. In a future version, it will default to False. In addition, specifying 'numeric_only=None' is deprecated. Select only valid columns or specify the value of numeric_only to silence this warning.\n",
      "  Oak = envioc[ envioc['Destination'] == 'OAK' ].mean()\n",
      "C:\\Users\\yulu1\\AppData\\Local\\Temp\\ipykernel_18732\\740797470.py:36: FutureWarning: The default value of numeric_only in DataFrame.mean is deprecated. In a future version, it will default to False. In addition, specifying 'numeric_only=None' is deprecated. Select only valid columns or specify the value of numeric_only to silence this warning.\n",
      "  Hou = envioc[ envioc['Destination'] == 'HOU' ].mean()\n"
     ]
    }
   ],
   "source": [
    "sources1 = envioReal[ envioReal['Source'] == 'LAS'  ]\n",
    "sources2 = envioReal[ envioReal['Source'] == 'MDW'  ]\n",
    "sources3 = envioReal[ envioReal['Source'] == 'PHX'  ]\n",
    "sources4 = envioReal[ envioReal['Source'] == 'OAK'  ]\n",
    "sources5 = envioReal[ envioReal['Source'] == 'HOU'  ]\n",
    "\n",
    "destination1 = envioReal[ envioReal['Destination'] == 'LAS'  ]\n",
    "destination2 = envioReal[ envioReal['Destination'] == 'MDW'  ]\n",
    "destination3 = envioReal[ envioReal['Destination'] == 'PHX'  ]\n",
    "destination4 = envioReal[ envioReal['Destination'] == 'OAK'  ]\n",
    "destination5 = envioReal[ envioReal['Destination'] == 'BWI'  ]\n",
    "\n",
    "#Creamos dos datasets de solamente los 5 paises donde más se mandan pedidos y se reciben\n",
    "sources = pd.concat( [ sources1, sources2, sources3, sources4, sources5 ] )\n",
    "destination = pd.concat([ destination1, destination2, destination3, destination4, destination5 ])\n",
    "\n",
    "\n",
    "#Calculamos el promedio de cada uno de los source que seleccionamos\n",
    "dfSour = envioReal[envioReal['Source']=='LAX']\n",
    "dfLAS = dfSour[dfSour['Destination']=='LAS']\n",
    "dfMDW = dfSour[dfSour['Destination']=='MDW']\n",
    "dfPHX = dfSour[dfSour['Destination']=='PHX']\n",
    "dfOAK = dfSour[dfSour['Destination']=='OAK']\n",
    "dfHOU = dfSour[dfSour['Destination']=='HOU']\n",
    "\n",
    "dest = pd.concat([dfLAS, dfMDW, dfPHX, dfOAK, dfHOU])\n",
    "\n",
    "destt=['Source', 'Destination', 'Carrier_Name', 'Planned_Delivery_Time', 'Distance']\n",
    "\n",
    "envioc=dest.loc[:,destt]\n",
    "\n",
    "Las = envioc[ envioc['Destination'] == 'LAS' ].mean()\n",
    "Mdw = envioc[ envioc['Destination'] == 'MDW' ].mean()\n",
    "Phx = envioc[ envioc['Destination'] == 'PHX' ].mean()\n",
    "Oak = envioc[ envioc['Destination'] == 'OAK' ].mean()\n",
    "Hou = envioc[ envioc['Destination'] == 'HOU' ].mean()\n",
    "\n",
    "PLas =int(Las['Planned_Delivery_Time'].mean())\n",
    "PMdw =int(Phx['Planned_Delivery_Time'].mean())\n",
    "PPhx =int(Mdw['Planned_Delivery_Time'].mean())\n",
    "POak =int(Oak['Planned_Delivery_Time'].mean())\n",
    "PHou =int(Hou['Planned_Delivery_Time'].mean())\n",
    "\n",
    "#DataFrame de envios para las cotizaciones, en las cuales se guarda el promedio del tiempo de delivery.\n",
    "\n",
    "deliveryProm=pd.DataFrame({'Source': ['LAX', 'LAX', 'LAX', 'LAX', 'LAX'], \n",
    "           'Destination': ['LAS', 'MDW', 'PHX', 'OAK', 'HOU'],\n",
    "           'Carrier_name': ['WN', 'WN', 'WN', 'WN', 'WN'],\n",
    "           'Planned_Delivery_Time': [PLas, PMdw, PPhx, POak, PHou],\n",
    "           'Distance': [236, 1750, 370, 337, 1390]},\n",
    "            columns = ['Source', 'Destination', 'Carrier_name', 'Planned_Delivery_Time', 'Distance'])\n"
   ]
  },
  {
   "cell_type": "code",
   "execution_count": 6,
   "metadata": {},
   "outputs": [],
   "source": [
    "#Función para crear el formar de la fecha\n",
    "def current_date_format(date):\n",
    "    day = date.day\n",
    "    month = date.month\n",
    "    year = date.year\n",
    "    messsage = \"{}-{} del {}\".format(day, month, year)\n",
    "\n",
    "    return messsage"
   ]
  },
  {
   "cell_type": "code",
   "execution_count": 7,
   "metadata": {},
   "outputs": [],
   "source": [
    "#Guardamos nuestro dataset de productos\n",
    "productos = pd.read_excel('productos.xlsx')\n",
    "productos.set_index('product')\n",
    "productosTienda = list(productos['product'])\n",
    "\n",
    "def hacerPedido( nombre, cantidad, destino ):\n",
    "    if nombre in productosTienda:\n",
    "        productos.loc[ productos['product'] == nombre, 'stock' ] = productos.loc[ productos['product'] == nombre, 'stock' ] - 1\n",
    "        productos.to_excel('productos.xlsx', engine='openpyxl', index=False)\n"
   ]
  },
  {
   "cell_type": "code",
   "execution_count": 8,
   "metadata": {},
   "outputs": [],
   "source": [
    "#Creación de datos para el reporte y las gráficas\n",
    "\n",
    "deliveryDelay = envioReal['Shipment_Delay'].mean() \n",
    "productTotal = len(envioReal)\n",
    "pedidosPerdidos = envio['Actual_Shipment_Time'].isna().sum()\n"
   ]
  },
  {
   "cell_type": "code",
   "execution_count": 9,
   "metadata": {},
   "outputs": [
    {
     "data": {
      "image/png": "[encoded data removed]",
      "text/plain": [
       "<Figure size 640x480 with 1 Axes>"
      ]
     },
     "metadata": {},
     "output_type": "display_data"
    }
   ],
   "source": [
    "colores = ['#264653','#2A9D8F','#E9C46A', '#F4A261', '#E76F51']\n",
    "envioReal['DayofMonth'].value_counts().plot( kind = 'bar', width= 0.8, color = colores, title='Pedidos realizados por día del mes', legend=True)\n",
    "plt.savefig('grafica1.jpg')\n"
   ]
  },
  {
   "cell_type": "code",
   "execution_count": 10,
   "metadata": {},
   "outputs": [
    {
     "data": {
      "image/png": "[encoded data removed]",
      "text/plain": [
       "<Figure size 640x480 with 1 Axes>"
      ]
     },
     "metadata": {},
     "output_type": "display_data"
    }
   ],
   "source": [
    "colores = ['#264653','#2A9D8F','#E9C46A', '#F4A261', '#E76F51']\n",
    "sources['Source'].value_counts().plot( kind = 'bar', color = colores, legend=True, title='Sitio donde se encargan los productos')\n",
    "\n",
    "plt.savefig('grafica2.jpg')"
   ]
  },
  {
   "cell_type": "code",
   "execution_count": 11,
   "metadata": {},
   "outputs": [
    {
     "data": {
      "image/png": "[encoded data removed]",
      "text/plain": [
       "<Figure size 640x480 with 1 Axes>"
      ]
     },
     "metadata": {},
     "output_type": "display_data"
    }
   ],
   "source": [
    "colores = ['#264653','#2A9D8F','#E9C46A', '#F4A261', '#E76F51',]\n",
    "destination['Destination'].value_counts().plot.pie( autopct = \"%.2f%%\", colors = colores, ylabel=\"Lugares donde más piden producto\" )\n",
    "\n",
    "plt.savefig('grafica3.jpg')\n"
   ]
  },
  {
   "attachments": {},
   "cell_type": "markdown",
   "metadata": {},
   "source": [
    "----------------------------- BOT ---------------------------"
   ]
  },
  {
   "cell_type": "code",
   "execution_count": 12,
   "metadata": {},
   "outputs": [],
   "source": [
    "with open(\"Frases.json\", encoding='utf-8') as files:\n",
    "    frases=json.load(files)\n",
    "\n",
    "try:\n",
    "    with open(\"Variables.pickle\",\"rb\") as archivoPickle_nuevo:\n",
    "        palabras_a_usar, etiquetas, train, output = pickle.load(archivoPickle_nuevo)  \n",
    "\n",
    "except:\n",
    "    palabras_a_usar=[]\n",
    "    etiquetas=[]\n",
    "    auxX=[]\n",
    "    auxY=[]\n",
    "\n",
    "\n",
    "    nltk.download('punkt')\n",
    "\n",
    "\n",
    "\n",
    "    for content in frases[\"contenido\"]:\n",
    "        for patrones in content[\"patrones\"]:\n",
    "                auxPalabra=nltk.word_tokenize(patrones)\n",
    "                palabras_a_usar.extend(auxPalabra)\n",
    "                auxX.append(auxPalabra)\n",
    "                auxY.append(content[\"tag\"])\n",
    "                if content[\"tag\"] not in etiquetas:\n",
    "                    etiquetas.append(content[\"tag\"])\n",
    "\n",
    "\n",
    "    palabras_a_usar=[stemmer.stem(w.lower()) for w in palabras_a_usar if w!= \"?\"]\n",
    "\n",
    "    palabras_a_usar=sorted(list(set(palabras_a_usar)))\n",
    "    etiquetas=sorted(etiquetas)\n",
    "\n",
    "    train=[]\n",
    "    output=[]\n",
    "    salidaVacia=[0 for _ in range(len(etiquetas))]\n",
    "\n",
    "\n",
    "\n",
    "\n",
    "    for x, documento in enumerate(auxX):\n",
    "            cubeta=[]\n",
    "            auxPalabra=[stemmer.stem(w.lower()) for w in documento]\n",
    "            for w in palabras_a_usar:\n",
    "                if w in auxPalabra:\n",
    "                    cubeta.append(1)\n",
    "                else:\n",
    "                    cubeta.append(0)\n",
    "            filasalida=salidaVacia[:]\n",
    "            filasalida[etiquetas.index(auxY[x])]=1\n",
    "            train.append(cubeta)\n",
    "            output.append(filasalida)\n",
    "            \n",
    "\n",
    "\n",
    "    train=np.array(train)\n",
    "    output=np.array(output)\n",
    "    with open(\"variables_nuevas.pickle\", \"wb\") as archivoPickle:\n",
    "        pickle.dump((palabras_a_usar, etiquetas,train, output ), archivoPickle )"
   ]
  },
  {
   "cell_type": "code",
   "execution_count": 13,
   "metadata": {},
   "outputs": [
    {
     "name": "stdout",
     "output_type": "stream",
     "text": [
      "WARNING:tensorflow:From c:\\Users\\yulu1\\AppData\\Local\\Programs\\Python\\Python310\\lib\\site-packages\\tflearn\\initializations.py:164: calling TruncatedNormal.__init__ (from tensorflow.python.ops.init_ops) with dtype is deprecated and will be removed in a future version.\n",
      "Instructions for updating:\n",
      "Call initializer instance with the dtype argument instead of passing it to the constructor\n",
      "INFO:tensorflow:Restoring parameters from c:\\Users\\yulu1\\Documents\\HackatonS\\modelo_bot.tflearn\n"
     ]
    }
   ],
   "source": [
    "red=tflearn.input_data(shape=[None,len(train[0])])\n",
    "red=tflearn.fully_connected(red, len(output))\n",
    "red=tflearn.fully_connected(red,len(output))\n",
    "red=tflearn.fully_connected(red,len(output[0]), activation=\"softmax\") \n",
    "red=tflearn.regression(red)\n",
    "\n",
    "modelo=tflearn.DNN(red)\n",
    "try:\n",
    "     modelo.load(\"modelo_bot.tflearn\")\n",
    "\n",
    "except:\n",
    "    \n",
    "     modelo.fit(train, output, n_epoch=1000, batch_size=len(output), show_metric=True)\n",
    "     modelo.save(\"modelo_bot.tflearn\")"
   ]
  },
  {
   "cell_type": "code",
   "execution_count": 14,
   "metadata": {},
   "outputs": [],
   "source": [
    "#Variables globales\n",
    "doc=open(\"Cotizacion.docx\", \"rb\")\n",
    "reporte = open(\"Reporte_Mensual_Enero.docx\", \"rb\")\n",
    "excelP = open(\"productos.xlsx\", \"rb\")\n",
    "dataset = open(\"delivery_dataset.csv\", \"rb\")\n",
    "usuario = False\n",
    "name_lastname=[]\n",
    "producto_name=[]\n",
    "num=[]"
   ]
  },
  {
   "cell_type": "code",
   "execution_count": 15,
   "metadata": {},
   "outputs": [],
   "source": [
    "#Creación del bot\n",
    "bot=telebot.TeleBot(Token) "
   ]
  },
  {
   "cell_type": "code",
   "execution_count": 16,
   "metadata": {},
   "outputs": [],
   "source": [
    "#Comandos de usuario\n",
    "@bot.message_handler(commands=[\"admin\"])\n",
    "def cmd_admin(message):\n",
    "     \n",
    "     markup=ForceReply()\n",
    "     mensaje=bot.send_message(message.chat.id, \"Ingrese su nombre de administrador\", reply_markup=markup)\n",
    "     \n",
    "     bot.register_next_step_handler(mensaje, is_admin)\n",
    "\n",
    "def is_admin(message): #Funcion reservada para admins \n",
    "    global usuario\n",
    "    with open(\"Usuarios.json\", \"r+\") as File:\n",
    "            File=json.load(File)\n",
    "\n",
    "    if [message.text] in File[\"usuarios\"][\"Users\"]:\n",
    "          bot.send_message(message.chat.id, \"Usuario logeado\")\n",
    "          usuario = True\n",
    "    else:\n",
    "        bot.send_message(message.chat.id, \"Usuario no encontrado\")\n",
    "        usuario = False"
   ]
  },
  {
   "cell_type": "code",
   "execution_count": 17,
   "metadata": {},
   "outputs": [],
   "source": [
    "#Comandos de ayuda.\n",
    "@bot.message_handler(commands=[\"start\", \"help\", \"ayuda\"])\n",
    "def cmd_start(message):\n",
    "     bot.send_message(message.chat.id, \"Hola que tal, soy Tommy su bot-asistente, los comandos disponibles son: /cotizacion\\n/reporte\\n/productos\\n/datos\")"
   ]
  },
  {
   "cell_type": "code",
   "execution_count": 18,
   "metadata": {},
   "outputs": [],
   "source": [
    "#Comando de reporte\n",
    "@bot.message_handler(commands=[\"reporte\"])\n",
    "def cmd_reporte(message):\n",
    "     markup=ForceReply()\n",
    "     respuesta =  bot.send_message(message.chat.id, \"Escribe ok para realizar el tramite\", reply_markup=markup)\n",
    "     bot.register_next_step_handler(respuesta, verificar)\n",
    "\n",
    "#Verificar usuario\n",
    "def verificar(message):\n",
    "    global usuario\n",
    "    if( usuario == False ):\n",
    "          bot.send_message(message.chat.id, 'No estás registrado, por favor escribe /admin')\n",
    "          return\n",
    "    else:\n",
    "        global reporte\n",
    "        bot.send_document(message.chat.id, reporte)\n",
    "\n"
   ]
  },
  {
   "cell_type": "code",
   "execution_count": 19,
   "metadata": {},
   "outputs": [],
   "source": [
    "#Comando ExcelProductos\n",
    "@bot.message_handler(commands=[\"productos\"])\n",
    "def cmd_productos(message):\n",
    "     markup=ForceReply()\n",
    "     respuesta =  bot.send_message(message.chat.id, \"Escribe ok para realizar el tramite\", reply_markup=markup)\n",
    "     bot.register_next_step_handler(respuesta, verificar2)\n",
    "\n",
    "def verificar2(message):\n",
    "    global usuario\n",
    "    if( usuario == False ):\n",
    "          bot.send_message(message.chat.id, 'No estás registrado, por favor escribe /admin')\n",
    "          return\n",
    "    else:\n",
    "        global excelP\n",
    "        bot.send_document(message.chat.id, excelP)\n"
   ]
  },
  {
   "cell_type": "code",
   "execution_count": 20,
   "metadata": {},
   "outputs": [],
   "source": [
    "#Comando Dataset\n",
    "@bot.message_handler(commands=[\"datos\"])\n",
    "def cmd_Datos(message):\n",
    "     markup=ForceReply()\n",
    "     respuesta =  bot.send_message(message.chat.id, \"Escribe ok para realizar el tramite\", reply_markup=markup)\n",
    "     bot.register_next_step_handler(respuesta, verificar3)\n",
    "\n",
    "def verificar3(message):\n",
    "    global usuario\n",
    "    if( usuario == False ):\n",
    "          bot.send_message(message.chat.id, 'No estás registrado, por favor escribe /admin')\n",
    "          return\n",
    "    else:\n",
    "        global dataset\n",
    "        bot.send_document(message.chat.id, dataset)"
   ]
  },
  {
   "cell_type": "code",
   "execution_count": 21,
   "metadata": {},
   "outputs": [],
   "source": [
    "#Series de comando de Cotización\n",
    "@bot.message_handler(commands=[\"cotizacion\"])\n",
    "def cmd_cotizacion(message):\n",
    "     markup=ForceReply()\n",
    "     nombre_apellido=bot.send_message(message.chat.id, \"Ingrese su nombre y apellido\", reply_markup=markup)\n",
    "     bot.register_next_step_handler(nombre_apellido,name_product)\n",
    "\n",
    "\n",
    "\n",
    "\n",
    "def name_product(message):\n",
    "     global name_lastname\n",
    "     nombres=message.text\n",
    "     name_lastname.append(nombres)\n",
    "     markup=ForceReply()\n",
    "     bot.send_message(message.chat.id, \"Excelente!, ahora\")\n",
    "     name=bot.send_message(message.chat.id, \"ingrese el nombre de su producto\", reply_markup=markup)\n",
    "     bot.register_next_step_handler(name,cantidad)\n",
    "    \n",
    "     \n",
    "\n",
    "\n",
    "def cantidad(message):\n",
    "     global producto_name\n",
    "     product_nombre=message.text\n",
    "     producto_name.append(product_nombre)\n",
    "     markup=ForceReply()\n",
    "     cant_productos=bot.send_message(message.chat.id, \"ingrese la cantidad de productos que desea\", reply_markup=markup)\n",
    "     bot.register_next_step_handler(cant_productos, create_cotizacion )\n",
    "\n",
    "\n",
    "\n",
    "\n",
    "def create_cotizacion(message):\n",
    "       \n",
    "       global name_lastname\n",
    "       global producto_name\n",
    "       global num\n",
    "       cant=message.text\n",
    "       cant=int(cant)\n",
    "       num.append(cant)\n",
    "\n",
    "     \n",
    "\n",
    "       rq.crearCotizacion(name_lastname[0], producto_name , num, 'nosebro', 'WN', 2, 5)\n",
    "       salida=bot.send_message(message.chat.id, \"Ingresa recibido, obtener la cotizacion\")\n",
    "       bot.register_next_step_handler(salida, send_document)\n",
    "\n",
    "\n",
    "    \n",
    "def send_document(message):\n",
    "     markup=ForceReply()\n",
    "     doc=open(\"Cotizacion-.docx\", \"rb\")\n",
    "    # bot.send_message(message.chat.id, \"\")\n",
    "     bot.send_document(message.chat.id, doc)\n",
    "     global name_lastname\n",
    "     global producto_name\n",
    "     name_lastname=[]\n",
    "     producto_name=[]\n",
    "     num=[]"
   ]
  },
  {
   "cell_type": "code",
   "execution_count": 22,
   "metadata": {},
   "outputs": [],
   "source": [
    "#Funcion de procesamiento de lenguaje natural y respuesta acorde a lo entrenado\n",
    "@bot.message_handler(content_types=[\"text\"])\n",
    "def greetings(message):\n",
    "\n",
    "        msg=message.text\n",
    "\n",
    "        cubeta=[0 for _ in range(len(palabras_a_usar))]\n",
    "        enterProcessed=nltk.word_tokenize(msg)\n",
    "        enterProcessed=[stemmer.stem(word.lower()) for word in enterProcessed]\n",
    "        for singleWord in enterProcessed:\n",
    "            for i, word in enumerate(palabras_a_usar):\n",
    "                if word == singleWord:\n",
    "                    cubeta[i]=1\n",
    "        resultados=modelo.predict([np.array(cubeta)])\n",
    "        \n",
    "        resultadosIndices=np.argmax(resultados)\n",
    "        tag=etiquetas[resultadosIndices]\n",
    "\n",
    "\n",
    "        for tagAux in frases[\"contenido\"]:\n",
    "            if tagAux[\"tag\"] == tag:\n",
    "                    respuesta=tagAux[\"respuestas\"]\n",
    "                    respuesta_real=random.choice(respuesta)\n",
    "        if max(cubeta) == 0:\n",
    "            bot.send_message(message.chat.id,'No entiendo lo que dices')\n",
    "            bot.send_message(message.chat.id, \"Para conocer nuestros comandos, ingresa /help \")\n",
    "        else:\n",
    "            bot.send_message(message.chat.id,respuesta_real)\n",
    "            bot.send_message(message.chat.id, \"En que te puedo ayudar?\")"
   ]
  },
  {
   "cell_type": "code",
   "execution_count": 23,
   "metadata": {},
   "outputs": [
    {
     "name": "stdout",
     "output_type": "stream",
     "text": [
      "iniciando el bot\n"
     ]
    }
   ],
   "source": [
    "if __name__ == '__main__':\n",
    "    print('iniciando el bot')\n",
    "    bot.infinity_polling()\n",
    "    #inicio=threading.Thread(name=\"inicio\", target=iniciar_bot)\n",
    "#    inicio.start()\n",
    "    print('fin')    "
   ]
  }
 ],
 "metadata": {
  "kernelspec": {
   "display_name": "Python 3",
   "language": "python",
   "name": "python3"
  },
  "language_info": {
   "codemirror_mode": {
    "name": "ipython",
    "version": 3
   },
   "file_extension": ".py",
   "mimetype": "text/x-python",
   "name": "python",
   "nbconvert_exporter": "python",
   "pygments_lexer": "ipython3",
   "version": "3.10.9"
  },
  "orig_nbformat": 4,
  "vscode": {
   "interpreter": {
    "hash": "1adde16ebeb43aa0525b353666eab71bf1bbb0f572abf93f53ad4194687777f7"
   }
  }
 },
 "nbformat": 4,
 "nbformat_minor": 2
}
