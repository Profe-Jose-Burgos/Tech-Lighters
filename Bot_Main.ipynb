{
 "cells": [
  {
   "cell_type": "code",
   "execution_count": 1,
   "metadata": {},
   "outputs": [],
   "source": [
    "#_____Main_bot________\n",
    "\n",
    "\n",
    "# INTEGRANTES:\n",
    "\n",
    "\n",
    "\n",
    "## 1- STEVEN AMPIE\n",
    "## 2- ENRIQUE QUERINI\n",
    "## 3- VIVIANA DAVIS\n",
    "## 4- JOHAN PIMENTEL\n",
    "## 5- ALEXANDER SANTAMARIA"
   ]
  },
  {
   "cell_type": "code",
   "execution_count": 3,
   "metadata": {},
   "outputs": [],
   "source": [
    "import tensorflow \n",
    "import threading\n",
    "import telebot\n",
    "import numpy as np\n",
    "import tflearn\n",
    "import nltk\n",
    "import json\n",
    "import pickle\n",
    "from nltk.stem.lancaster import LancasterStemmer\n",
    "stemmer=LancasterStemmer()\n",
    "import random"
   ]
  },
  {
   "cell_type": "code",
   "execution_count": 4,
   "metadata": {},
   "outputs": [],
   "source": [
    "with open(\"Frases.json\", encoding='utf-8') as files:\n",
    "    frases=json.load(files)\n",
    "\n",
    "try:\n",
    "    with open(\"Variables.pickle\",\"rb\") as archivoPickle_nuevo:\n",
    "        palabras_a_usar, etiquetas, train, output = pickle.load(archivoPickle_nuevo)  \n",
    "\n",
    "except:\n",
    "    palabras_a_usar=[]\n",
    "    etiquetas=[]\n",
    "    auxX=[]\n",
    "    auxY=[]\n",
    "\n",
    "\n",
    "    nltk.download('punkt')\n",
    "\n",
    "\n",
    "\n",
    "    for content in frases[\"contenido\"]:\n",
    "        for patrones in content[\"patrones\"]:\n",
    "                auxPalabra=nltk.word_tokenize(patrones)\n",
    "                palabras_a_usar.extend(auxPalabra)\n",
    "                auxX.append(auxPalabra)\n",
    "                auxY.append(content[\"tag\"])\n",
    "                if content[\"tag\"] not in etiquetas:\n",
    "                    etiquetas.append(content[\"tag\"])\n",
    "\n",
    "\n",
    "    palabras_a_usar=[stemmer.stem(w.lower()) for w in palabras_a_usar if w!= \"?\"]\n",
    "\n",
    "    palabras_a_usar=sorted(list(set(palabras_a_usar)))\n",
    "    etiquetas=sorted(etiquetas)\n",
    "\n",
    "    train=[]\n",
    "    output=[]\n",
    "    salidaVacia=[0 for _ in range(len(etiquetas))]\n",
    "\n",
    "\n",
    "\n",
    "\n",
    "    for x, documento in enumerate(auxX):\n",
    "            cubeta=[]\n",
    "            auxPalabra=[stemmer.stem(w.lower()) for w in documento]\n",
    "            for w in palabras_a_usar:\n",
    "                if w in auxPalabra:\n",
    "                    cubeta.append(1)\n",
    "                else:\n",
    "                    cubeta.append(0)\n",
    "            filasalida=salidaVacia[:]\n",
    "            filasalida[etiquetas.index(auxY[x])]=1\n",
    "            train.append(cubeta)\n",
    "            output.append(filasalida)\n",
    "            \n",
    "\n",
    "\n",
    "    train=np.array(train)\n",
    "    output=np.array(output)\n",
    "    with open(\"variables_nuevas.pickle\", \"wb\") as archivoPickle:\n",
    "        pickle.dump((palabras_a_usar, etiquetas,train, output ), archivoPickle )"
   ]
  },
  {
   "cell_type": "code",
   "execution_count": 5,
   "metadata": {},
   "outputs": [],
   "source": []
  },
  {
   "cell_type": "code",
   "execution_count": null,
   "metadata": {},
   "outputs": [],
   "source": []
  }
 ],
 "metadata": {
  "kernelspec": {
   "display_name": "base",
   "language": "python",
   "name": "python3"
  },
  "language_info": {
   "codemirror_mode": {
    "name": "ipython",
    "version": 3
   },
   "file_extension": ".py",
   "mimetype": "text/x-python",
   "name": "python",
   "nbconvert_exporter": "python",
   "pygments_lexer": "ipython3",
   "version": "3.9.12"
  },
  "orig_nbformat": 4,
  "vscode": {
   "interpreter": {
    "hash": "c85639ad47734d2d25675cf3359b999066bb31679113e658282fe7f1256484f7"
   }
  }
 },
 "nbformat": 4,
 "nbformat_minor": 2
}
